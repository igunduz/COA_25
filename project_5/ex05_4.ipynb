{
 "cells": [
  {
   "cell_type": "markdown",
   "metadata": {},
   "source": [
    "# Ex5_4 Projection algorithm"
   ]
  },
  {
   "cell_type": "code",
   "execution_count": 9,
   "metadata": {},
   "outputs": [],
   "source": [
    "import numpy as np\n",
    "import matplotlib.pyplot as plt"
   ]
  },
  {
   "cell_type": "markdown",
   "metadata": {},
   "source": [
    "## Find the projection of $x$ onto the unit simplex in $\\mathbb{R}^2$:     \n",
    "$$S = \\{x=(x_1,x_2) | x_1 + x_2 = 1, x_1 >=0 , x_2 \\geq 0\\}$$ \n",
    " We seek for an iterative solution using the **Alternating projection method** or **Dykstra's projection algorithm**."
   ]
  },
  {
   "cell_type": "markdown",
   "metadata": {},
   "source": [
    "The set $S$ can be described as the intersection of the following sets $C$ and $D$: \n",
    "$$C = \\{x=(x_1,x_2) | x_1^2 + x_2^2 <= 1\\}$$\n",
    "$$D = \\{x=(x_1,x_2) | x_1 + x_2 = 1\\}$$"
   ]
  },
  {
   "cell_type": "code",
   "execution_count": 10,
   "metadata": {},
   "outputs": [
    {
     "data": {
      "image/png": "[encoded data removed]",
      "text/plain": [
       "<Figure size 640x480 with 1 Axes>"
      ]
     },
     "metadata": {},
     "output_type": "display_data"
    }
   ],
   "source": [
    "# draw a part of the set D\n",
    "fig, ax = plt.subplots()\n",
    "plt.plot([2,-1],[-1,2],color=(0,0,0,1),linewidth=2);\n",
    "# draw the set C\n",
    "\n",
    "circle1 = plt.Circle((0, 0), 1, color='y')\n",
    "ax.add_patch(circle1)\n",
    "# draw the intersection of set C and set D\n",
    "plt.plot([1,0],[0,1],color='red',linewidth=2);\n",
    "plt.axis('equal')\n",
    "plt.show()"
   ]
  },
  {
   "cell_type": "markdown",
   "metadata": {},
   "source": [
    "## Alternation projection method\n",
    "1. Perform the update step of the Alternating Projection Method. \n",
    "2. Denote the points on $C$ by $y$ and the points on $D$ by $x$. \n",
    "3. Append $y$ and $x$ to the list 'seq'. \n",
    "4. Implement an appropriate breaking condition. \n",
    "5. Define an appropriate residual and break the loop if **res<tol**."
   ]
  },
  {
   "cell_type": "code",
   "execution_count": 11,
   "metadata": {},
   "outputs": [],
   "source": [
    "def POCS(x0, tol, maxiter, check):\n",
    "    # Initialization\n",
    "    x = x0.copy()\n",
    "    y = x.copy()\n",
    "    seq = [x0]  # Store the sequence of points\n",
    "    \n",
    "    for iter in range(maxiter):\n",
    "        # Projection onto D: x1 + x2 = 1\n",
    "        x = y + (1 - np.sum(y)) / 2 * np.array([1, 1])\n",
    "        seq.append(x)\n",
    "        \n",
    "        # Projection onto C: x1^2 + x2^2 <= 1\n",
    "        norm_x = np.linalg.norm(x)\n",
    "        if norm_x > 1:\n",
    "            y = x / norm_x  # Project onto the unit circle\n",
    "        else:\n",
    "            y = x  # Already inside the unit circle\n",
    "        seq.append(y)\n",
    "        \n",
    "        # Compute residual\n",
    "        res = np.linalg.norm(x - y)**2\n",
    "        \n",
    "        # Breaking condition\n",
    "        if res < tol:\n",
    "            break\n",
    "        \n",
    "        # Provide some information\n",
    "        if iter % check == 0:\n",
    "            print(f\"Iter: {iter}, res: {res:.6f}\")\n",
    "    \n",
    "    return seq"
   ]
  },
  {
   "cell_type": "markdown",
   "metadata": {},
   "source": [
    "## Dykstra's projection method\n",
    " 1. Perform the update step of the Dykstra's  Projection Method. \n",
    " 2. Denote the points on $C$ by $y$ and the points on $D$ by $x$.       \n",
    " 3. Append $y$ and $x$ to the list **'seq'**.\n",
    " 4. Implement an appropriate **breaking condition**.  \n",
    " 5. Define an appropriate residual and break the loop if **res<tol**.\n",
    "\n"
   ]
  },
  {
   "cell_type": "code",
   "execution_count": 12,
   "metadata": {},
   "outputs": [],
   "source": [
    "# Define the Dykstra function\n",
    "def Dykstra(x0, tol, maxiter, check):\n",
    "    x = x0.copy()\n",
    "    y = x.copy()\n",
    "    p = np.zeros_like(x)  # Correction term for C\n",
    "    q = np.zeros_like(x)  # Correction term for D\n",
    "    seq = [x0]  # Store the sequence of points\n",
    "    \n",
    "    for iter in range(maxiter):\n",
    "        # Projection onto D with correction\n",
    "        x = y + (1 - np.sum(y + q)) / 2 * np.array([1, 1])\n",
    "        q = x - (y + q)\n",
    "        seq.append(x)\n",
    "        \n",
    "        # Projection onto C with correction\n",
    "        norm_x = np.linalg.norm(x + p)\n",
    "        if norm_x > 1:\n",
    "            y = (x + p) / norm_x  # Project onto the unit circle\n",
    "        else:\n",
    "            y = x + p  # Already inside the unit circle\n",
    "        p = y - (x + p)\n",
    "        seq.append(y)\n",
    "        \n",
    "        # Compute residual\n",
    "        res = np.linalg.norm(x - y)**2\n",
    "        \n",
    "        # Breaking condition\n",
    "        if res < tol:\n",
    "            break\n",
    "        \n",
    "        # Provide some information\n",
    "        if iter % check == 0:\n",
    "            print(f\"Dykstra Iter: {iter}, res: {res:.6f}\")\n",
    "    \n",
    "    return seq"
   ]
  },
  {
   "cell_type": "code",
   "execution_count": 13,
   "metadata": {},
   "outputs": [],
   "source": [
    "### Run the algorithms ###\n",
    "x0 = x0 = np.array([1.5,-1.5]); #np.array([-0.5,-1.5]);\n",
    "\n",
    "tol = 1e-10;\n",
    "maxiter = 10;\n",
    "check = 1;"
   ]
  },
  {
   "cell_type": "code",
   "execution_count": 14,
   "metadata": {},
   "outputs": [
    {
     "name": "stdout",
     "output_type": "stream",
     "text": [
      "Iter: 0, res: 1.527864\n",
      "Iter: 1, res: 0.033568\n",
      "Iter: 2, res: 0.004767\n",
      "Iter: 3, res: 0.000947\n",
      "Iter: 4, res: 0.000213\n",
      "Iter: 5, res: 0.000051\n",
      "Iter: 6, res: 0.000012\n",
      "Iter: 7, res: 0.000003\n",
      "Iter: 8, res: 0.000001\n",
      "Iter: 9, res: 0.000000\n",
      "Dykstra Iter: 0, res: 1.527864\n",
      "Dykstra Iter: 1, res: 1.527864\n",
      "Dykstra Iter: 2, res: 0.554836\n",
      "Dykstra Iter: 3, res: 2.080631\n",
      "Dykstra Iter: 4, res: 39.451593\n",
      "Dykstra Iter: 5, res: 172.864935\n",
      "Dykstra Iter: 6, res: 882.674262\n",
      "Dykstra Iter: 7, res: 3600.654652\n",
      "Dykstra Iter: 8, res: 15233.761212\n",
      "Dykstra Iter: 9, res: 61224.591044\n"
     ]
    }
   ],
   "source": [
    "# run the POCS algorithm (Alternating Projection Method)\n",
    "seq_POCS = POCS(x0, tol, maxiter, check);\n",
    "arr_POCS = np.vstack(seq_POCS).T;\n",
    "\n",
    "# run Dykstra Projection Algorithm\n",
    "seq_Dykstra = Dykstra(x0, tol, maxiter, check);\n",
    "arr_Dykstra = np.vstack(seq_Dykstra).T;"
   ]
  },
  {
   "cell_type": "code",
   "execution_count": 15,
   "metadata": {
    "scrolled": true
   },
   "outputs": [
    {
     "data": {
      "image/png": "[encoded data removed]",
      "text/plain": [
       "<Figure size 1200x600 with 2 Axes>"
      ]
     },
     "metadata": {},
     "output_type": "display_data"
    }
   ],
   "source": [
    "### visualize the result:\n",
    "#fig= plt.figure(figsize=(12,6));\n",
    "\n",
    "fig, ax = plt.subplots(1,2)\n",
    "fig.set_size_inches(12, 6)\n",
    "#plt.figure(figsize=(12,6))\n",
    "#plt.subplot(1,2,1);\n",
    "#plt.axis('square')\n",
    "\n",
    "#plt.axis('equal')\n",
    "ax[0].axis('equal')\n",
    "# draw the set C\n",
    "circle1 = plt.Circle((0, 0), 1, color='y')\n",
    "ax[0].add_patch(circle1)\n",
    "\n",
    "# draw a part of the set D\n",
    "ax[0].plot([2,-1],[-1,2],color=(0,0,0,1),linewidth=2);\n",
    "#plt.plot([2,-1],[-1,2],color=(0,0,0,1),linewidth=2);\n",
    "# draw the boundary of the set C\n",
    "#an = np.linspace(0, 2*np.pi, 100)#an = np.linspace(0, 2*np.pi, 100)\n",
    "#plt.plot(np.cos(an), np.sin(an),color=(0,0,0,1),linewidth=1);\n",
    "#plt.plot(np.cos(an), np.sin(an),color=(1,1,0,1),linewidth=1);\n",
    "\n",
    "# visualize iterates of POCS\n",
    "ax[0].plot(arr_POCS[0,:], arr_POCS[1,:], '-x', color=(0,0,1,1),linewidth=1,markersize=4);\n",
    "#plt.plot(arr_POCS[0,:], arr_POCS[1,:], '-x', color=(0,0,1,1),linewidth=1,markersize=4);\n",
    "\n",
    "#ax[0].plot(arr_POCS[0,-1], arr_POCS[1,-1], '-x', color=(0,0,1,1),linewidth=2,markersize=8);\n",
    "#plt.plot(arr_POCS[0,-1], arr_POCS[1,-1], '-x', color=(0,0,1,1),linewidth=2,markersize=8);\n",
    "\n",
    "# draw the intersection of set C and set D\n",
    "ax[0].plot([1,0],[0,1],color='red',linewidth=2);\n",
    "#plt.plot([1,0],[0,1],color='red',linewidth=2);\n",
    "ax[0].plot(1,0,color='red',marker='D',linewidth=2);\n",
    "#plt.plot(1,0,color='red',marker='D',linewidth=2);\n",
    "ax[0].set_title('POCS')\n",
    "#plt.title(\"POCS\");\n",
    "\n",
    "\n",
    "#plt.subplot(1,2,2);\n",
    "ax[1].axis('equal')\n",
    "# draw a part of the set D\n",
    "ax[1].plot([2,-1],[-1,2],color=(0,0,0,1),linewidth=2);\n",
    "#plt.plot([2,-1],[-1,2],color=(0,0,0,1),linewidth=2);\n",
    "# draw the set C\n",
    "circle2 = plt.Circle((0, 0), 1, color='y')\n",
    "ax[1].add_patch(circle2)\n",
    "\n",
    "# draw the boundary of the set C\n",
    "#an = np.linspace(0, 2*np.pi, 100)\n",
    "#plt.plot(np.cos(an), np.sin(an),color=(1,1,0,1),linewidth=1);\n",
    "# visualize iterates of Dykstra's Algorithm\n",
    "ax[1].plot(arr_Dykstra[0,:], arr_Dykstra[1,:], '-*', color=(0,0,1,1),linewidth=1,markersize=4);\n",
    "#plt.plot(arr_Dykstra[0,:], arr_Dykstra[1,:], '-*', color=(0,0,1,1),linewidth=1,markersize=4);\n",
    "\n",
    "#plt.plot(arr_Dykstra[0,-1], arr_Dykstra[1,-1], '*', color=(0,0,1,1),linewidth=2,markersize=8);\n",
    "# draw the intersection of set C and set D\n",
    "ax[1].plot([1,0],[0,1],color='red',linewidth=2)\n",
    "#plt.plot([1,0],[0,1],color='red',linewidth=2);\n",
    "ax[1].plot(1,0,color='red',marker='D',linewidth=2);\n",
    "#plt.plot(1,0,color='red',marker='D',linewidth=2);\n",
    "ax[1].set_title(\"Dykstra\");\n",
    "\n",
    "plt.savefig('POCSvsDykstra.pdf',bbox_inches='tight', facecolor='white')\n",
    "\n",
    "# show result\n",
    "\n",
    "plt.show();\n"
   ]
  },
  {
   "cell_type": "code",
   "execution_count": null,
   "metadata": {},
   "outputs": [],
   "source": []
  },
  {
   "cell_type": "code",
   "execution_count": null,
   "metadata": {},
   "outputs": [],
   "source": []
  }
 ],
 "metadata": {
  "kernelspec": {
   "display_name": "pytorch",
   "language": "python",
   "name": "python3"
  },
  "language_info": {
   "codemirror_mode": {
    "name": "ipython",
    "version": 3
   },
   "file_extension": ".py",
   "mimetype": "text/x-python",
   "name": "python",
   "nbconvert_exporter": "python",
   "pygments_lexer": "ipython3",
   "version": "3.11.5"
  }
 },
 "nbformat": 4,
 "nbformat_minor": 4
}
